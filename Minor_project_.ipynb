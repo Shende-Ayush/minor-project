{
  "nbformat": 4,
  "nbformat_minor": 0,
  "metadata": {
    "colab": {
      "name": "Minor_project .ipynb",
      "provenance": [],
      "collapsed_sections": [
        "vyos1bJe5BxO"
      ],
      "include_colab_link": true
    },
    "kernelspec": {
      "name": "python3",
      "display_name": "Python 3"
    },
    "language_info": {
      "name": "python"
    }
  },
  "cells": [
    {
      "cell_type": "markdown",
      "metadata": {
        "id": "view-in-github",
        "colab_type": "text"
      },
      "source": [
        "<a href=\"https://colab.research.google.com/github/Shende-Ayush/minor-project-iris-dataset/blob/main/Minor_project_.ipynb\" target=\"_parent\"><img src=\"https://colab.research.google.com/assets/colab-badge.svg\" alt=\"Open In Colab\"/></a>"
      ]
    },
    {
      "cell_type": "markdown",
      "metadata": {
        "id": "vyos1bJe5BxO"
      },
      "source": [
        "# **MINOR Poject **\n",
        "\n",
        "---\n",
        "\n",
        "\n",
        "\n",
        "---\n",
        "\n",
        "\n",
        "\n",
        "---\n",
        "\n",
        "\n",
        "\n",
        "# ***Applying classification using SVC method ***"
      ]
    },
    {
      "cell_type": "markdown",
      "metadata": {
        "id": "tjf0V6N6moIY"
      },
      "source": [
        " **Name == Ayush Shende**\n",
        " **Regestered Email == Shende_ayush.cs@ghrce.raisoni.net**\n",
        "**GitHub** **Repo**==  "
      ]
    },
    {
      "cell_type": "markdown",
      "metadata": {
        "id": "seKKosHNvbXZ"
      },
      "source": [
        "# **Importing libries**\n",
        "\n",
        "\n",
        "\n",
        "\n",
        "\n",
        "\n"
      ]
    },
    {
      "cell_type": "code",
      "metadata": {
        "id": "KmXVqGmcvVRy"
      },
      "source": [
        "import pandas as pd\n",
        "import numpy as np\n",
        "import matplotlib.pyplot as plt\n",
        "%matplotlib inline"
      ],
      "execution_count": null,
      "outputs": []
    },
    {
      "cell_type": "markdown",
      "metadata": {
        "id": "0t88F4GLv4TH"
      },
      "source": [
        "# **Getting Data Set**"
      ]
    },
    {
      "cell_type": "code",
      "metadata": {
        "colab": {
          "base_uri": "https://localhost:8080/"
        },
        "id": "cmsYUHimvy9J",
        "outputId": "cd18b378-9a9d-43fa-b91b-28f25227dd46"
      },
      "source": [
        "df= pd.read_csv(\"Iris .csv\")\n",
        "print(df)"
      ],
      "execution_count": null,
      "outputs": [
        {
          "output_type": "stream",
          "text": [
            "      Id  SepalLengthCm  ...  PetalWidthCm         Species\n",
            "0      1            5.1  ...           0.2     Iris-setosa\n",
            "1      2            4.9  ...           0.2     Iris-setosa\n",
            "2      3            4.7  ...           0.2     Iris-setosa\n",
            "3      4            4.6  ...           0.2     Iris-setosa\n",
            "4      5            5.0  ...           0.2     Iris-setosa\n",
            "..   ...            ...  ...           ...             ...\n",
            "145  146            6.7  ...           2.3  Iris-virginica\n",
            "146  147            6.3  ...           1.9  Iris-virginica\n",
            "147  148            6.5  ...           2.0  Iris-virginica\n",
            "148  149            6.2  ...           2.3  Iris-virginica\n",
            "149  150            5.9  ...           1.8  Iris-virginica\n",
            "\n",
            "[150 rows x 6 columns]\n"
          ],
          "name": "stdout"
        }
      ]
    },
    {
      "cell_type": "markdown",
      "metadata": {
        "id": "XMiXPM9HwWPi"
      },
      "source": [
        "# checking data"
      ]
    },
    {
      "cell_type": "code",
      "metadata": {
        "colab": {
          "base_uri": "https://localhost:8080/"
        },
        "id": "T_OVKkkEwwoh",
        "outputId": "767fa92c-92d4-4670-e0ec-8141ab34579b"
      },
      "source": [
        "print(df.head())"
      ],
      "execution_count": null,
      "outputs": [
        {
          "output_type": "stream",
          "text": [
            "   Id  SepalLengthCm  SepalWidthCm  PetalLengthCm  PetalWidthCm      Species\n",
            "0   1            5.1           3.5            1.4           0.2  Iris-setosa\n",
            "1   2            4.9           3.0            1.4           0.2  Iris-setosa\n",
            "2   3            4.7           3.2            1.3           0.2  Iris-setosa\n",
            "3   4            4.6           3.1            1.5           0.2  Iris-setosa\n",
            "4   5            5.0           3.6            1.4           0.2  Iris-setosa\n"
          ],
          "name": "stdout"
        }
      ]
    },
    {
      "cell_type": "code",
      "metadata": {
        "colab": {
          "base_uri": "https://localhost:8080/"
        },
        "id": "uXT0RIM3wwHt",
        "outputId": "f4077b88-7bf4-48a0-9df6-cdd1cb8ff567"
      },
      "source": [
        "print(df.tail())"
      ],
      "execution_count": null,
      "outputs": [
        {
          "output_type": "stream",
          "text": [
            "      Id  SepalLengthCm  ...  PetalWidthCm         Species\n",
            "145  146            6.7  ...           2.3  Iris-virginica\n",
            "146  147            6.3  ...           1.9  Iris-virginica\n",
            "147  148            6.5  ...           2.0  Iris-virginica\n",
            "148  149            6.2  ...           2.3  Iris-virginica\n",
            "149  150            5.9  ...           1.8  Iris-virginica\n",
            "\n",
            "[5 rows x 6 columns]\n"
          ],
          "name": "stdout"
        }
      ]
    },
    {
      "cell_type": "code",
      "metadata": {
        "colab": {
          "base_uri": "https://localhost:8080/"
        },
        "id": "E6rEuBqAwC6T",
        "outputId": "eb74bd17-26be-4648-f310-baa005566d21"
      },
      "source": [
        "print(df. describe())"
      ],
      "execution_count": null,
      "outputs": [
        {
          "output_type": "stream",
          "text": [
            "               Id  SepalLengthCm  SepalWidthCm  PetalLengthCm  PetalWidthCm\n",
            "count  150.000000     150.000000    150.000000     150.000000    150.000000\n",
            "mean    75.500000       5.843333      3.054000       3.758667      1.198667\n",
            "std     43.445368       0.828066      0.433594       1.764420      0.763161\n",
            "min      1.000000       4.300000      2.000000       1.000000      0.100000\n",
            "25%     38.250000       5.100000      2.800000       1.600000      0.300000\n",
            "50%     75.500000       5.800000      3.000000       4.350000      1.300000\n",
            "75%    112.750000       6.400000      3.300000       5.100000      1.800000\n",
            "max    150.000000       7.900000      4.400000       6.900000      2.500000\n"
          ],
          "name": "stdout"
        }
      ]
    },
    {
      "cell_type": "code",
      "metadata": {
        "colab": {
          "base_uri": "https://localhost:8080/"
        },
        "id": "_2PnO9Tt4UVp",
        "outputId": "9d19eb96-52ab-4c5f-a20a-a864d833dceb"
      },
      "source": [
        "print(df.shape[0])"
      ],
      "execution_count": null,
      "outputs": [
        {
          "output_type": "stream",
          "text": [
            "150\n"
          ],
          "name": "stdout"
        }
      ]
    },
    {
      "cell_type": "markdown",
      "metadata": {
        "id": "430qoTZzwgsK"
      },
      "source": [
        "# **Checking for Data Types and Null values**"
      ]
    },
    {
      "cell_type": "code",
      "metadata": {
        "colab": {
          "base_uri": "https://localhost:8080/"
        },
        "id": "Vr3_E3KdwdGq",
        "outputId": "3ddcf91f-13ab-4588-f608-1917a1b68ac0"
      },
      "source": [
        "print(df.info())"
      ],
      "execution_count": null,
      "outputs": [
        {
          "output_type": "stream",
          "text": [
            "<class 'pandas.core.frame.DataFrame'>\n",
            "RangeIndex: 150 entries, 0 to 149\n",
            "Data columns (total 6 columns):\n",
            " #   Column         Non-Null Count  Dtype  \n",
            "---  ------         --------------  -----  \n",
            " 0   Id             150 non-null    int64  \n",
            " 1   SepalLengthCm  150 non-null    float64\n",
            " 2   SepalWidthCm   150 non-null    float64\n",
            " 3   PetalLengthCm  150 non-null    float64\n",
            " 4   PetalWidthCm   150 non-null    float64\n",
            " 5   Species        150 non-null    object \n",
            "dtypes: float64(4), int64(1), object(1)\n",
            "memory usage: 7.2+ KB\n",
            "None\n"
          ],
          "name": "stdout"
        }
      ]
    },
    {
      "cell_type": "markdown",
      "metadata": {
        "id": "siJprFGe1eDr"
      },
      "source": [
        "## **Visualization of data using graphs**"
      ]
    },
    {
      "cell_type": "code",
      "metadata": {
        "colab": {
          "base_uri": "https://localhost:8080/",
          "height": 407
        },
        "id": "xpnuhUczxBWJ",
        "outputId": "b682651d-8f77-42e4-f8d3-98f570908a97"
      },
      "source": [
        "df.plot(kind = \"scatter\",x='SepalLengthCm',y='SepalWidthCm' , figsize=(14,6))\n",
        "plt.xlabel(\"SepalLengthCm\")\n",
        "plt.ylabel(\"SepalWidthCm\")\n",
        "print(plt.show())\n",
        "\n"
      ],
      "execution_count": null,
      "outputs": [
        {
          "output_type": "display_data",
          "data": {
            "image/png": "[encoded data removed]",
            "text/plain": [
              "<Figure size 1008x432 with 1 Axes>"
            ]
          },
          "metadata": {
            "tags": [],
            "needs_background": "light"
          }
        },
        {
          "output_type": "stream",
          "text": [
            "None\n"
          ],
          "name": "stdout"
        }
      ]
    },
    {
      "cell_type": "code",
      "metadata": {
        "colab": {
          "base_uri": "https://localhost:8080/",
          "height": 405
        },
        "id": "qxmKyk7kmGaW",
        "outputId": "c7395ae3-2479-482a-9bff-19a35522d752"
      },
      "source": [
        "df.plot(kind = \"density\",x='SepalLengthCm',y='SepalWidthCm' , figsize=(14,6))\n",
        "plt.xlabel(\"SepalLengthCm\")\n",
        "plt.ylabel(\"SepalWidthCm\")\n",
        "print(plt.show())"
      ],
      "execution_count": null,
      "outputs": [
        {
          "output_type": "display_data",
          "data": {
            "image/png": "[encoded data removed]",
            "text/plain": [
              "<Figure size 1008x432 with 1 Axes>"
            ]
          },
          "metadata": {
            "tags": [],
            "needs_background": "light"
          }
        },
        {
          "output_type": "stream",
          "text": [
            "None\n"
          ],
          "name": "stdout"
        }
      ]
    },
    {
      "cell_type": "code",
      "metadata": {
        "id": "yZ8ubShSwfIi",
        "colab": {
          "base_uri": "https://localhost:8080/",
          "height": 405
        },
        "outputId": "42002c1e-4c24-42d7-d7dc-051be25c37a4"
      },
      "source": [
        "df.plot(kind = \"scatter\",x='PetalLengthCm',y='PetalWidthCm' , figsize=(14,6))\n",
        "plt.xlabel(\"PetalLengthCm\")\n",
        "plt.ylabel(\"PetalWidthCm\")\n",
        "print(plt.show())\n",
        "\n"
      ],
      "execution_count": null,
      "outputs": [
        {
          "output_type": "display_data",
          "data": {
            "image/png": "[encoded data removed]",
            "text/plain": [
              "<Figure size 1008x432 with 1 Axes>"
            ]
          },
          "metadata": {
            "tags": [],
            "needs_background": "light"
          }
        },
        {
          "output_type": "stream",
          "text": [
            "None\n"
          ],
          "name": "stdout"
        }
      ]
    },
    {
      "cell_type": "code",
      "metadata": {
        "colab": {
          "base_uri": "https://localhost:8080/",
          "height": 405
        },
        "id": "QiE70livmEH-",
        "outputId": "9132b26a-44ad-4906-8db5-f47853eb7f0e"
      },
      "source": [
        "df.plot(kind = \"density\",x='PetalLengthCm',y='PetalWidthCm' , figsize=(14,6))\n",
        "plt.xlabel(\"PetalLengthCm\")\n",
        "plt.ylabel(\"PetalWidthCm|\")\n",
        "\n",
        "print(plt.show())"
      ],
      "execution_count": null,
      "outputs": [
        {
          "output_type": "display_data",
          "data": {
            "image/png": "[encoded data removed]",
            "text/plain": [
              "<Figure size 1008x432 with 1 Axes>"
            ]
          },
          "metadata": {
            "tags": [],
            "needs_background": "light"
          }
        },
        {
          "output_type": "stream",
          "text": [
            "None\n"
          ],
          "name": "stdout"
        }
      ]
    },
    {
      "cell_type": "markdown",
      "metadata": {
        "id": "2jCJ0Ir22N0D"
      },
      "source": [
        "# **Defineing the data and the lables**"
      ]
    },
    {
      "cell_type": "code",
      "metadata": {
        "id": "8nvVvBAb2NP0"
      },
      "source": [
        "x = df.iloc[:,1:5]\n",
        "y = df.iloc[:,5]"
      ],
      "execution_count": null,
      "outputs": []
    },
    {
      "cell_type": "code",
      "metadata": {
        "id": "kAkaXqDl2gTD",
        "colab": {
          "base_uri": "https://localhost:8080/"
        },
        "outputId": "723c5b3b-1f5c-4f28-b2e9-e300c2df0116"
      },
      "source": [
        "print(x)"
      ],
      "execution_count": null,
      "outputs": [
        {
          "output_type": "stream",
          "text": [
            "     SepalLengthCm  SepalWidthCm  PetalLengthCm  PetalWidthCm\n",
            "0              5.1           3.5            1.4           0.2\n",
            "1              4.9           3.0            1.4           0.2\n",
            "2              4.7           3.2            1.3           0.2\n",
            "3              4.6           3.1            1.5           0.2\n",
            "4              5.0           3.6            1.4           0.2\n",
            "..             ...           ...            ...           ...\n",
            "145            6.7           3.0            5.2           2.3\n",
            "146            6.3           2.5            5.0           1.9\n",
            "147            6.5           3.0            5.2           2.0\n",
            "148            6.2           3.4            5.4           2.3\n",
            "149            5.9           3.0            5.1           1.8\n",
            "\n",
            "[150 rows x 4 columns]\n"
          ],
          "name": "stdout"
        }
      ]
    },
    {
      "cell_type": "code",
      "metadata": {
        "colab": {
          "base_uri": "https://localhost:8080/"
        },
        "id": "PntBVyv02jxD",
        "outputId": "0b6f0606-f1dd-4751-e64a-b53650d47cf9"
      },
      "source": [
        "print(y)"
      ],
      "execution_count": null,
      "outputs": [
        {
          "output_type": "stream",
          "text": [
            "0         Iris-setosa\n",
            "1         Iris-setosa\n",
            "2         Iris-setosa\n",
            "3         Iris-setosa\n",
            "4         Iris-setosa\n",
            "            ...      \n",
            "145    Iris-virginica\n",
            "146    Iris-virginica\n",
            "147    Iris-virginica\n",
            "148    Iris-virginica\n",
            "149    Iris-virginica\n",
            "Name: Species, Length: 150, dtype: object\n"
          ],
          "name": "stdout"
        }
      ]
    },
    {
      "cell_type": "markdown",
      "metadata": {
        "id": "MTvkTIfo9SPE"
      },
      "source": [
        "# **Getting Unique values**"
      ]
    },
    {
      "cell_type": "code",
      "metadata": {
        "colab": {
          "base_uri": "https://localhost:8080/"
        },
        "id": "LzDeLQ1n9QEd",
        "outputId": "65350dd9-6a38-4eba-d8b4-03246921cd2f"
      },
      "source": [
        "print(y.unique())"
      ],
      "execution_count": null,
      "outputs": [
        {
          "output_type": "stream",
          "text": [
            "['Iris-setosa' 'Iris-versicolor' 'Iris-virginica']\n"
          ],
          "name": "stdout"
        }
      ]
    },
    {
      "cell_type": "markdown",
      "metadata": {
        "id": "nZ2va0F71wfa"
      },
      "source": [
        "# **Spliting data in to train and test **\n",
        "\n",
        "> split data in o train and train data set where train data set is 20% of that on the actual data set \n",
        "\n",
        "\n"
      ]
    },
    {
      "cell_type": "code",
      "metadata": {
        "id": "gk6PQd7N0ICo"
      },
      "source": [
        "from sklearn.model_selection import train_test_split\n",
        "x_train,x_test,y_train,y_test = train_test_split(x,y,test_size=0.2,random_state=0)"
      ],
      "execution_count": null,
      "outputs": []
    },
    {
      "cell_type": "code",
      "metadata": {
        "colab": {
          "base_uri": "https://localhost:8080/"
        },
        "id": "Ps73bTah2nn_",
        "outputId": "f1936bd0-be73-4db5-e05d-2df448c40e8e"
      },
      "source": [
        "print(x_train)"
      ],
      "execution_count": null,
      "outputs": [
        {
          "output_type": "stream",
          "text": [
            "     SepalLengthCm  SepalWidthCm  PetalLengthCm  PetalWidthCm\n",
            "137            6.4           3.1            5.5           1.8\n",
            "84             5.4           3.0            4.5           1.5\n",
            "27             5.2           3.5            1.5           0.2\n",
            "127            6.1           3.0            4.9           1.8\n",
            "132            6.4           2.8            5.6           2.2\n",
            "..             ...           ...            ...           ...\n",
            "9              4.9           3.1            1.5           0.1\n",
            "103            6.3           2.9            5.6           1.8\n",
            "67             5.8           2.7            4.1           1.0\n",
            "117            7.7           3.8            6.7           2.2\n",
            "47             4.6           3.2            1.4           0.2\n",
            "\n",
            "[120 rows x 4 columns]\n"
          ],
          "name": "stdout"
        }
      ]
    },
    {
      "cell_type": "code",
      "metadata": {
        "colab": {
          "base_uri": "https://localhost:8080/"
        },
        "id": "fybzi7Lc2Jjk",
        "outputId": "d5823d5a-01f2-4d65-c1f7-7a90029e2b38"
      },
      "source": [
        "print(x_test)"
      ],
      "execution_count": null,
      "outputs": [
        {
          "output_type": "stream",
          "text": [
            "     SepalLengthCm  SepalWidthCm  PetalLengthCm  PetalWidthCm\n",
            "114            5.8           2.8            5.1           2.4\n",
            "62             6.0           2.2            4.0           1.0\n",
            "33             5.5           4.2            1.4           0.2\n",
            "107            7.3           2.9            6.3           1.8\n",
            "7              5.0           3.4            1.5           0.2\n",
            "100            6.3           3.3            6.0           2.5\n",
            "40             5.0           3.5            1.3           0.3\n",
            "86             6.7           3.1            4.7           1.5\n",
            "76             6.8           2.8            4.8           1.4\n",
            "71             6.1           2.8            4.0           1.3\n",
            "134            6.1           2.6            5.6           1.4\n",
            "51             6.4           3.2            4.5           1.5\n",
            "73             6.1           2.8            4.7           1.2\n",
            "54             6.5           2.8            4.6           1.5\n",
            "63             6.1           2.9            4.7           1.4\n",
            "37             4.9           3.1            1.5           0.1\n",
            "78             6.0           2.9            4.5           1.5\n",
            "90             5.5           2.6            4.4           1.2\n",
            "45             4.8           3.0            1.4           0.3\n",
            "16             5.4           3.9            1.3           0.4\n",
            "121            5.6           2.8            4.9           2.0\n",
            "66             5.6           3.0            4.5           1.5\n",
            "24             4.8           3.4            1.9           0.2\n",
            "8              4.4           2.9            1.4           0.2\n",
            "126            6.2           2.8            4.8           1.8\n",
            "22             4.6           3.6            1.0           0.2\n",
            "44             5.1           3.8            1.9           0.4\n",
            "97             6.2           2.9            4.3           1.3\n",
            "93             5.0           2.3            3.3           1.0\n",
            "26             5.0           3.4            1.6           0.4\n"
          ],
          "name": "stdout"
        }
      ]
    },
    {
      "cell_type": "markdown",
      "metadata": {
        "id": "K3nVV97b285C"
      },
      "source": [
        "# **standardize** the data"
      ]
    },
    {
      "cell_type": "code",
      "metadata": {
        "id": "Ia_GbHZY28cj"
      },
      "source": [
        "from sklearn.preprocessing import StandardScaler\n",
        "sc= StandardScaler()\n",
        "sc.fit_transform(x_train)\n",
        "x_train = sc.transform(x_train)\n",
        "x_test = sc.transform(x_test)"
      ],
      "execution_count": null,
      "outputs": []
    },
    {
      "cell_type": "markdown",
      "metadata": {
        "id": "G49OoUL92w7D"
      },
      "source": [
        "# **Fiting Data for SVM (SVC) Algo**\n",
        "\n",
        "> Creating te model\n",
        "\n"
      ]
    },
    {
      "cell_type": "code",
      "metadata": {
        "colab": {
          "base_uri": "https://localhost:8080/"
        },
        "id": "q1eq2MTL2qeu",
        "outputId": "3bb85c08-5718-47f2-ede5-b7ee260db68a"
      },
      "source": [
        "from sklearn.svm import SVC\n",
        "svm=SVC(kernel=\"linear\",random_state=0)\n",
        "svm.fit(x_train,y_train)"
      ],
      "execution_count": null,
      "outputs": [
        {
          "output_type": "execute_result",
          "data": {
            "text/plain": [
              "SVC(C=1.0, break_ties=False, cache_size=200, class_weight=None, coef0=0.0,\n",
              "    decision_function_shape='ovr', degree=3, gamma='scale', kernel='linear',\n",
              "    max_iter=-1, probability=False, random_state=0, shrinking=True, tol=0.001,\n",
              "    verbose=False)"
            ]
          },
          "metadata": {
            "tags": []
          },
          "execution_count": 21
        }
      ]
    },
    {
      "cell_type": "markdown",
      "metadata": {
        "id": "UXsyZ7UV3_c7"
      },
      "source": [
        "# **predcting the and testing using test data set**"
      ]
    },
    {
      "cell_type": "code",
      "metadata": {
        "colab": {
          "base_uri": "https://localhost:8080/"
        },
        "id": "U5VgZhZy32dj",
        "outputId": "3da53c33-4035-45d8-e328-33b24858f587"
      },
      "source": [
        "y_pred=svm.predict(x_test)\n",
        "print(y_pred.reshape(-1,1))"
      ],
      "execution_count": null,
      "outputs": [
        {
          "output_type": "stream",
          "text": [
            "[['Iris-virginica']\n",
            " ['Iris-versicolor']\n",
            " ['Iris-setosa']\n",
            " ['Iris-virginica']\n",
            " ['Iris-setosa']\n",
            " ['Iris-virginica']\n",
            " ['Iris-setosa']\n",
            " ['Iris-versicolor']\n",
            " ['Iris-versicolor']\n",
            " ['Iris-versicolor']\n",
            " ['Iris-virginica']\n",
            " ['Iris-versicolor']\n",
            " ['Iris-versicolor']\n",
            " ['Iris-versicolor']\n",
            " ['Iris-versicolor']\n",
            " ['Iris-setosa']\n",
            " ['Iris-versicolor']\n",
            " ['Iris-versicolor']\n",
            " ['Iris-setosa']\n",
            " ['Iris-setosa']\n",
            " ['Iris-virginica']\n",
            " ['Iris-versicolor']\n",
            " ['Iris-setosa']\n",
            " ['Iris-setosa']\n",
            " ['Iris-virginica']\n",
            " ['Iris-setosa']\n",
            " ['Iris-setosa']\n",
            " ['Iris-versicolor']\n",
            " ['Iris-versicolor']\n",
            " ['Iris-setosa']]\n"
          ],
          "name": "stdout"
        }
      ]
    },
    {
      "cell_type": "markdown",
      "metadata": {
        "id": "TRV8yJIo4cxD"
      },
      "source": [
        "### ***Calculating*** the accuracy"
      ]
    },
    {
      "cell_type": "code",
      "metadata": {
        "colab": {
          "base_uri": "https://localhost:8080/"
        },
        "id": "UoI5vglV4Nvc",
        "outputId": "acc2a88f-9a8a-4a76-851d-3bb8e72cbe39"
      },
      "source": [
        "from sklearn.metrics import confusion_matrix , accuracy_score\n",
        "print ('Accuracy of model with test data  == {:.2f}'.format(svm.score( x_train, y_train )))\n",
        "print('Accuracy Of the modle = {:.2f}'.format(accuracy_score(y_pred,y_test)))\n"
      ],
      "execution_count": null,
      "outputs": [
        {
          "output_type": "stream",
          "text": [
            "Accuracy of model with test data  == 0.96\n",
            "Accuracy Of the modle = 1.00\n"
          ],
          "name": "stdout"
        }
      ]
    },
    {
      "cell_type": "markdown",
      "metadata": {
        "id": "Es7sndeV4sm6"
      },
      "source": [
        "# **getting Confusion matrix**"
      ]
    },
    {
      "cell_type": "code",
      "metadata": {
        "colab": {
          "base_uri": "https://localhost:8080/"
        },
        "id": "QHVM-Ndm4rF7",
        "outputId": "ac66aa5a-95a2-4b96-a8ec-cd6c154c4c9a"
      },
      "source": [
        "print(\"Comfusion mtrix = \\n\",confusion_matrix(y_test,y_pred),\"\\n\\n\")"
      ],
      "execution_count": null,
      "outputs": [
        {
          "output_type": "stream",
          "text": [
            "Comfusion mtrix = \n",
            " [[11  0  0]\n",
            " [ 0 13  0]\n",
            " [ 0  0  6]] \n",
            "\n",
            "\n"
          ],
          "name": "stdout"
        }
      ]
    },
    {
      "cell_type": "code",
      "metadata": {
        "id": "aQumH6vn8XcF"
      },
      "source": [
        ""
      ],
      "execution_count": null,
      "outputs": []
    }
  ]
}